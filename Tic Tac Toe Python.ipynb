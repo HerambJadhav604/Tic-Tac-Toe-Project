{
 "cells": [
  {
   "cell_type": "code",
   "execution_count": null,
   "id": "d46e06be",
   "metadata": {},
   "outputs": [],
   "source": [
    "# Write a function that can print out a board. \n",
    "# Set your board as a list,\n",
    "# where each index 1-9 corresponds with a number on a number pad\n",
    "# You get a 3 by 3 board representation."
   ]
  },
  {
   "cell_type": "code",
   "execution_count": 1,
   "id": "bb78d29d",
   "metadata": {},
   "outputs": [],
   "source": [
    "from IPython.display import clear_output\n",
    "\n",
    "def display_board(board):\n",
    "    clear_output()\n",
    "    print('-----------')\n",
    "    print('    |   |')\n",
    "    print('  ' + board[7] +  ' | ' + board[8] + ' | ' + board[9])\n",
    "    print('    |   |')\n",
    "    print('-----------')\n",
    "    print('    |   |')\n",
    "    print('  ' + board[4] +  ' | ' + board[5] + ' | ' + board[6])\n",
    "    print('    |   |')\n",
    "    print('-----------')\n",
    "    print('    |   |')\n",
    "    print('  ' + board[1] +  ' | ' + board[2] + ' | ' + board[3])\n",
    "    print('    |   |')\n",
    "    print('-----------')"
   ]
  },
  {
   "cell_type": "code",
   "execution_count": 2,
   "id": "1ffea558",
   "metadata": {},
   "outputs": [
    {
     "name": "stdout",
     "output_type": "stream",
     "text": [
      "-----------\n",
      "    |   |\n",
      "  X | O | X\n",
      "    |   |\n",
      "-----------\n",
      "    |   |\n",
      "  O | X | O\n",
      "    |   |\n",
      "-----------\n",
      "    |   |\n",
      "  X | O | X\n",
      "    |   |\n",
      "-----------\n"
     ]
    }
   ],
   "source": [
    "test_board = ['#', 'X', 'O', 'X', 'O', 'X', 'O', 'X', 'O', 'X']\n",
    "display_board(test_board)"
   ]
  },
  {
   "cell_type": "code",
   "execution_count": null,
   "id": "c7804041",
   "metadata": {},
   "outputs": [],
   "source": [
    "# Write a function that can take in a player input & assign thier marker as 'X' or 'O'."
   ]
  },
  {
   "cell_type": "code",
   "execution_count": 3,
   "id": "420a234f",
   "metadata": {},
   "outputs": [],
   "source": [
    "def player_input():\n",
    "    \n",
    "    marker = ''\n",
    "    \n",
    "    while not (marker == 'X' or marker == 'O'):\n",
    "        marker = input('Player 1 : Do you want to be X or O: ').upper()\n",
    "        \n",
    "    if marker == 'X':\n",
    "        return ('X', 'O')\n",
    "    else:\n",
    "        return ('O', 'X')\n"
   ]
  },
  {
   "cell_type": "code",
   "execution_count": 4,
   "id": "0fa5a91d",
   "metadata": {},
   "outputs": [
    {
     "name": "stdout",
     "output_type": "stream",
     "text": [
      "Player 1 : Do you want to be X or O: X\n"
     ]
    },
    {
     "data": {
      "text/plain": [
       "('X', 'O')"
      ]
     },
     "execution_count": 4,
     "metadata": {},
     "output_type": "execute_result"
    }
   ],
   "source": [
    "player_input()"
   ]
  },
  {
   "cell_type": "code",
   "execution_count": null,
   "id": "47017495",
   "metadata": {},
   "outputs": [],
   "source": [
    "# board, marker, position"
   ]
  },
  {
   "cell_type": "code",
   "execution_count": null,
   "id": "0c6660e5",
   "metadata": {},
   "outputs": [],
   "source": [
    "# Write a function that takes in the board list object , a marker ('X' or 'O'), DESIRED NUMBER (1-9)"
   ]
  },
  {
   "cell_type": "code",
   "execution_count": 5,
   "id": "7652f83d",
   "metadata": {},
   "outputs": [],
   "source": [
    "def place_marker(board, marker, position):\n",
    "    board[position] = marker"
   ]
  },
  {
   "cell_type": "code",
   "execution_count": 6,
   "id": "56c61e55",
   "metadata": {},
   "outputs": [
    {
     "name": "stdout",
     "output_type": "stream",
     "text": [
      "-----------\n",
      "    |   |\n",
      "  X | $ | X\n",
      "    |   |\n",
      "-----------\n",
      "    |   |\n",
      "  O | X | O\n",
      "    |   |\n",
      "-----------\n",
      "    |   |\n",
      "  X | O | X\n",
      "    |   |\n",
      "-----------\n"
     ]
    }
   ],
   "source": [
    "place_marker(test_board, '$', 8)\n",
    "display_board(test_board)"
   ]
  },
  {
   "cell_type": "code",
   "execution_count": null,
   "id": "27df599d",
   "metadata": {},
   "outputs": [],
   "source": [
    "# Write a function takes in a board & check to see if someone has wons ?"
   ]
  },
  {
   "cell_type": "code",
   "execution_count": 7,
   "id": "1543bf7c",
   "metadata": {},
   "outputs": [],
   "source": [
    "def check_winner(board,mark):\n",
    "    \n",
    "    return ((board[7] == mark and board[8] == mark and board[9] == mark) or # across the top\n",
    "    (board[4] == mark and board[5] == mark and board[6] == mark) or # across the middle\n",
    "    (board[1] == mark and board[2] == mark and board[3] == mark) or # across the bottom\n",
    "    (board[7] == mark and board[4] == mark and board[1] == mark) or # down the middle\n",
    "    (board[8] == mark and board[5] == mark and board[2] == mark) or # down the middle\n",
    "    (board[9] == mark and board[6] == mark and board[3] == mark) or # down the right side\n",
    "    (board[7] == mark and board[5] == mark and board[3] == mark) or # diagonal\n",
    "    (board[9] == mark and board[5] == mark and board[1] == mark)) # diagonal"
   ]
  },
  {
   "cell_type": "code",
   "execution_count": 8,
   "id": "d60f9fc1",
   "metadata": {},
   "outputs": [
    {
     "data": {
      "text/plain": [
       "True"
      ]
     },
     "execution_count": 8,
     "metadata": {},
     "output_type": "execute_result"
    }
   ],
   "source": [
    "check_winner(test_board,'X')"
   ]
  },
  {
   "cell_type": "code",
   "execution_count": null,
   "id": "3076ff99",
   "metadata": {},
   "outputs": [],
   "source": [
    "# write a function that uses the random module to randomly decied which player goes first ?\n",
    "# You may want to lookup random.randint() return a string of which player went first ?"
   ]
  },
  {
   "cell_type": "code",
   "execution_count": 9,
   "id": "2b45da12",
   "metadata": {},
   "outputs": [],
   "source": [
    "import random\n",
    "\n",
    "def choose_first():\n",
    "    if random.randint(0, 1) == 0:\n",
    "        return 'Player 2'\n",
    "    else:\n",
    "        return 'Player 1'"
   ]
  },
  {
   "cell_type": "code",
   "execution_count": null,
   "id": "9a4fe17b",
   "metadata": {},
   "outputs": [],
   "source": [
    "# Step 6: Write a function that returns a boolean indicating whether a space on the board is freely available ?"
   ]
  },
  {
   "cell_type": "code",
   "execution_count": 10,
   "id": "5a6ea0e3",
   "metadata": {},
   "outputs": [],
   "source": [
    "def space_check(board, position):\n",
    "    return board[position] == ' '"
   ]
  },
  {
   "cell_type": "code",
   "execution_count": null,
   "id": "311c275c",
   "metadata": {},
   "outputs": [],
   "source": [
    "#Step 7:Write a function that check if the board is full & return a boolean value . True is full, otherwise False"
   ]
  },
  {
   "cell_type": "code",
   "execution_count": 11,
   "id": "299dd14e",
   "metadata": {},
   "outputs": [],
   "source": [
    "def full_board_check(board):\n",
    "    for i in range(1,10):\n",
    "        if space_check(board, i):\n",
    "            return False\n",
    "        \n",
    "    return True"
   ]
  },
  {
   "cell_type": "code",
   "execution_count": null,
   "id": "63514d17",
   "metadata": {},
   "outputs": [],
   "source": [
    "# Step 8: Write a function that asks for a player's next position (as a number 1-9) \n",
    "# And then uses the function from step 6 to check if its a free position. \n",
    "# If it is, then return the position for later use. "
   ]
  },
  {
   "cell_type": "code",
   "execution_count": 12,
   "id": "c0aafba6",
   "metadata": {},
   "outputs": [],
   "source": [
    "def player_choice(board):\n",
    "    position = 0\n",
    "    \n",
    "    while position not in  [1,2,3,4,5,6,7,8,9] or not space_check(board, position):\n",
    "        position = int(input('Choice your next position (1-9)'))\n",
    "        \n",
    "        return position"
   ]
  },
  {
   "cell_type": "code",
   "execution_count": null,
   "id": "3a13f1a3",
   "metadata": {},
   "outputs": [],
   "source": [
    "# Step 9:\n",
    "# Write a function that asks the player if they want to play again and return a boolean.\n",
    "#if they want to play again and return a boolean True if they do want to play again..\n"
   ]
  },
  {
   "cell_type": "code",
   "execution_count": 13,
   "id": "68bb4ba7",
   "metadata": {},
   "outputs": [],
   "source": [
    "def replay():\n",
    "    return input('Do you want to play again? Yes or No: ').lower().startswith('y')"
   ]
  },
  {
   "cell_type": "code",
   "execution_count": null,
   "id": "096bf60b",
   "metadata": {},
   "outputs": [],
   "source": [
    "# Step 10: Here Use the while oops & the functions you've made to run the game"
   ]
  },
  {
   "cell_type": "code",
   "execution_count": null,
   "id": "19616894",
   "metadata": {},
   "outputs": [
    {
     "name": "stdout",
     "output_type": "stream",
     "text": [
      "-----------\n",
      "    |   |\n",
      "    |   |  \n",
      "    |   |\n",
      "-----------\n",
      "    |   |\n",
      "    |   |  \n",
      "    |   |\n",
      "-----------\n",
      "    |   |\n",
      "  X |   |  \n",
      "    |   |\n",
      "-----------\n",
      "Choice your next position (1-9)2\n",
      "Do you want to play again? Yes or No: no\n"
     ]
    }
   ],
   "source": [
    "print('Welcome to Tic Tac Toe')\n",
    "\n",
    "while True:\n",
    "    theBoard = [' '] * 10\n",
    "    player1_marker, player2_marker = player_input()\n",
    "    turn = choose_first()\n",
    "    print(turn + ' will go first.')\n",
    "    \n",
    "    play_game = input('Are you ready to play? Enter Yes or No.')\n",
    "    \n",
    "    if play_game.lower()[0] == 'y':\n",
    "        game_on = True\n",
    "    else:\n",
    "        game_on = False\n",
    "        \n",
    "    while game_on:\n",
    "        if turn == 'Player 1':\n",
    "            display_board(theBoard)\n",
    "            position = player_choice(theBoard)\n",
    "            place_marker(theBoard, player1_marker, position)\n",
    "            \n",
    "            if check_winner(theBoard, player1_marker):\n",
    "                display_board(theBoard)\n",
    "                print('Congratulations! You have won the game !')\n",
    "                game_on = False\n",
    "            else:\n",
    "                if full_board_check(theBoard):\n",
    "                    display_board(theBoard)\n",
    "                    print(\"The game is draw !\")\n",
    "                    break\n",
    "                else:\n",
    "                    turn = 'Player 2'\n",
    "        else:\n",
    "            \n",
    "            display_board(theBoard)\n",
    "            position = player_choice(theBoard)\n",
    "            place_marker(theBoard, player2_marker, position)\n",
    "            \n",
    "            if check_winner(theBoard, player2_marker):\n",
    "                display_board(theBoard)\n",
    "                print('Player 2 has won')\n",
    "                game_on = False\n",
    "                \n",
    "            else:\n",
    "                if full_board_check(theBoard):\n",
    "                    display_board(theBoard)\n",
    "                    print('The game is a draw')\n",
    "                    break\n",
    "                else:\n",
    "                    turn = 'Player 1'\n",
    "                    \n",
    "        if not replay():\n",
    "            break"
   ]
  },
  {
   "cell_type": "code",
   "execution_count": null,
   "id": "1297bbd1",
   "metadata": {},
   "outputs": [],
   "source": []
  },
  {
   "cell_type": "code",
   "execution_count": null,
   "id": "0f50850b",
   "metadata": {},
   "outputs": [],
   "source": []
  },
  {
   "cell_type": "code",
   "execution_count": null,
   "id": "f6ade070",
   "metadata": {},
   "outputs": [],
   "source": []
  },
  {
   "cell_type": "code",
   "execution_count": null,
   "id": "db62ab9c",
   "metadata": {},
   "outputs": [],
   "source": []
  },
  {
   "cell_type": "code",
   "execution_count": null,
   "id": "f2ab71ff",
   "metadata": {},
   "outputs": [],
   "source": []
  },
  {
   "cell_type": "code",
   "execution_count": null,
   "id": "23fe795d",
   "metadata": {},
   "outputs": [],
   "source": []
  },
  {
   "cell_type": "code",
   "execution_count": null,
   "id": "33e40780",
   "metadata": {},
   "outputs": [],
   "source": []
  },
  {
   "cell_type": "code",
   "execution_count": null,
   "id": "2c63b93a",
   "metadata": {},
   "outputs": [],
   "source": []
  }
 ],
 "metadata": {
  "kernelspec": {
   "display_name": "Python 3 (ipykernel)",
   "language": "python",
   "name": "python3"
  },
  "language_info": {
   "codemirror_mode": {
    "name": "ipython",
    "version": 3
   },
   "file_extension": ".py",
   "mimetype": "text/x-python",
   "name": "python",
   "nbconvert_exporter": "python",
   "pygments_lexer": "ipython3",
   "version": "3.9.6"
  }
 },
 "nbformat": 4,
 "nbformat_minor": 5
}
